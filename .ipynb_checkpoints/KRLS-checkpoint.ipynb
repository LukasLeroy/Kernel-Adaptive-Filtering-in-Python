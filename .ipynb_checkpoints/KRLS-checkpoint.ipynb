{
 "cells": [
  {
   "cell_type": "code",
   "execution_count": null,
   "metadata": {},
   "outputs": [],
   "source": [
    "import numpy as np\n",
    "import pandas as pd\n",
    "import matplotlib.pyplot as plt\n",
    "%matplotlib inline\n",
    "from sklearn.metrics import mean_squared_error\n",
    "plt.style.use('seaborn')"
   ]
  },
  {
   "cell_type": "code",
   "execution_count": null,
   "metadata": {},
   "outputs": [],
   "source": [
    "data = pd.read_csv('dataset_a_cleaned.csv', index_col=0)\n",
    "speed = data['0'].values.flatten()\n",
    "power = data['1'].values.flatten()\n",
    "speed = speed[:50000]/max(speed[:50000])\n",
    "power = power[:50000]/max(power[:50000])"
   ]
  },
  {
   "cell_type": "code",
   "execution_count": null,
   "metadata": {
    "scrolled": true
   },
   "outputs": [],
   "source": [
    "class Kernel:\n",
    "    def kernel(self, a, b):\n",
    "        norm = np.linalg.norm(a - b)\n",
    "        term = (norm * norm) / (2 * self.sigma * self.sigma)\n",
    "        return np.exp(-1 * term)\n",
    "    \n",
    "class KRLS(Kernel):\n",
    "    def __init__(\n",
    "        self,\n",
    "        first_input,\n",
    "        first_output,\n",
    "        reg_param=0.1,\n",
    "        sigma=1\n",
    "    ):\n",
    "        self.reg_param = reg_param\n",
    "        self.sigma = sigma\n",
    "        self.Q = np.array(\n",
    "            [1 / (reg_param + self.kernel(first_input, first_input))])\n",
    "        self.weights = np.array([self.Q * first_output])\n",
    "        self.inputs = [first_input]\n",
    "\n",
    "    def predict(self, new_input):\n",
    "        h = np.array([self.kernel(new_input, old_input) for old_input in self.inputs]).reshape(1, len(self.inputs))\n",
    "        return np.dot(h,self.weights)\n",
    "\n",
    "    def update(self, new_input, expected):\n",
    "        h = np.array([\n",
    "            self.kernel(new_input, old_input) for old_input in self.inputs\n",
    "        ]).reshape(len(self.inputs), 1)\n",
    "        ht = h.T\n",
    "        z = self.Q.dot(h)\n",
    "        zt = z.T\n",
    "        r = self.reg_param + self.kernel(new_input, new_input) - zt.dot(h)\n",
    "        Q_size = len(z) + 1\n",
    "        new_Q = np.zeros((Q_size, Q_size))\n",
    "        new_Q[0:Q_size - 1, 0:Q_size - 1] = self.Q * r + z.dot(zt)\n",
    "        new_Q[0:Q_size - 1, Q_size - 1:Q_size] = -z\n",
    "        new_Q[Q_size - 1:Q_size, 0:Q_size - 1] = -zt\n",
    "        new_Q[Q_size - 1][Q_size - 1] = 1\n",
    "        self.Q = new_Q\n",
    "        error = expected - ht.dot(self.weights)\n",
    "        new_weights = np.zeros((Q_size, 1))\n",
    "        new_weights[0:Q_size - 1, 0:1] = self.weights - z * (1 / r) * error\n",
    "        new_weights[Q_size - 1][0] = (1 / r) * error\n",
    "        self.weights = new_weights\n",
    "        self.inputs.append(new_input)\n",
    "        # reduce the regularization as we get more data\n",
    "        self.reg_param *= 0.9\n"
   ]
  },
  {
   "cell_type": "code",
   "execution_count": null,
   "metadata": {},
   "outputs": [],
   "source": [
    "llim = 0\n",
    "ulim = 1000\n",
    "step_size = 100\n",
    "test_lim=10\n",
    "regularisation = [0.1,0.01,0.001]\n",
    "error_reg = []\n",
    "plt.figure(figsize=[15,10])\n",
    "for r in regularisation:\n",
    "    error = []\n",
    "    krlsFilter = KRLS(speed[0],power[0],sigma = 0.1, reg_param = r)\n",
    "    for k in range(llim, ulim,step_size):\n",
    "        for i in range(k,k+step_size):\n",
    "            krlsFilter.update(speed[i],power[i])\n",
    "        yhat = []\n",
    "        for i in range(k+step_size,k+step_size+test_lim):\n",
    "            yhat.append(krlsFilter.predict(speed[i])[0][0])\n",
    "        yhat = np.array(yhat)\n",
    "        error.append(mean_squared_error(power[k+step_size:k+step_size+test_lim],yhat)/test_lim)\n",
    "        print(\"\\r\",\"Iteration = {} done...\".format(k+step_size),end='')\n",
    "    error = np.array(error)\n",
    "    error_reg.append(error)\n",
    "    plt.plot(error,label = \"ref_param = {}\".format(r))\n",
    "    print(\"reg_param = {} completed\".format(r))\n",
    "plt.legend(loc='upper right')"
   ]
  },
  {
   "cell_type": "code",
   "execution_count": null,
   "metadata": {},
   "outputs": [],
   "source": [
    "for i in range(len(error_reg)):\n",
    "    pd.DataFrame(error_reg[i]).to_csv('krls_error_reg_{}.csv'.format(regularisation[i]))"
   ]
  }
 ],
 "metadata": {
  "kernelspec": {
   "display_name": "Python [default]",
   "language": "python",
   "name": "python3"
  },
  "language_info": {
   "codemirror_mode": {
    "name": "ipython",
    "version": 3
   },
   "file_extension": ".py",
   "mimetype": "text/x-python",
   "name": "python",
   "nbconvert_exporter": "python",
   "pygments_lexer": "ipython3",
   "version": "3.6.6"
  }
 },
 "nbformat": 4,
 "nbformat_minor": 2
}
