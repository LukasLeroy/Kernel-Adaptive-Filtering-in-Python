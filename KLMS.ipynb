{
 "cells": [
  {
   "cell_type": "code",
   "execution_count": null,
   "metadata": {},
   "outputs": [],
   "source": [
    "import numpy as np\n",
    "import pandas as pd\n",
    "import matplotlib.pyplot as plt\n",
    "%matplotlib inline\n",
    "from sklearn.metrics import mean_squared_error\n",
    "plt.style.use('seaborn')"
   ]
  },
  {
   "cell_type": "code",
   "execution_count": null,
   "metadata": {
    "scrolled": true
   },
   "outputs": [],
   "source": [
    "#Data Processing\n",
    "data = pd.read_csv('dataset_a_cleaned.csv', index_col=0)\n",
    "speed = data['0'].values.flatten()\n",
    "power = data['1'].values.flatten()\n",
    "\n",
    "#Normalisation\n",
    "speed = speed[:100000]/max(speed[:100000])\n",
    "power = power[:100000]/max(power[:100000])"
   ]
  },
  {
   "cell_type": "code",
   "execution_count": null,
   "metadata": {},
   "outputs": [],
   "source": [
    "# Making a kernal adaptive filter\n",
    "\n",
    "class Kernel:\n",
    "    def kernel(self, a, b):\n",
    "        norm = np.linalg.norm(a - b)\n",
    "        term = (norm * norm) / (2 * self.sigma * self.sigma)\n",
    "        return np.exp(-1 * term)\n",
    "\n",
    "class KLMS(Kernel):\n",
    "    def __init__(\n",
    "        self,\n",
    "        num_params,\n",
    "        learning_step=0.5,\n",
    "        sigma=0.1\n",
    "    ):\n",
    "        self.inputs = [np.zeros(num_params)]\n",
    "        self.weights = [0]\n",
    "        self.learning_step = learning_step\n",
    "        self.sigma = sigma\n",
    "        self.error = None\n",
    "\n",
    "    def predict(self, new_input):\n",
    "        estimate = 0\n",
    "        for i in range(0, len(self.weights)):\n",
    "            addition = self.weights[i] * self.kernel(self.inputs[i], new_input)\n",
    "            estimate += addition\n",
    "        return estimate\n",
    "\n",
    "    def update(self, new_input, expected):\n",
    "        self.error = expected - self.predict(new_input)\n",
    "        self.inputs.append(new_input)\n",
    "        new_weights = self.learning_step * self.error\n",
    "        self.weights.append(new_weights)\n"
   ]
  },
  {
   "cell_type": "code",
   "execution_count": null,
   "metadata": {
    "scrolled": true
   },
   "outputs": [],
   "source": [
    "llim = 0\n",
    "ulim = 1000\n",
    "step_size = 100\n",
    "test_lim= 10\n",
    "mu = [1e-1,1e-2]\n",
    "error_mu = []\n",
    "plt.figure(figsize=[15,10])\n",
    "for m in mu:\n",
    "    error = []\n",
    "    mae,rmse,r2 = [0]*3\n",
    "    klmsFilter = KLMS(1, sigma = 0.5, learning_step = m)\n",
    "    for k in range(llim, ulim,step_size):\n",
    "        for i in range(k,k+step_size):\n",
    "            klmsFilter.update(speed[i],power[i])\n",
    "        yhat = []\n",
    "        for i in range(k+step_size,k+step_size+test_lim):\n",
    "            yhat.append(klmsFilter.predict(speed[i]))\n",
    "        yhat = np.array(yhat)\n",
    "        error.append(mean_squared_error(power[k+step_size:k+step_size+test_lim],yhat))\n",
    "        print(\"\\r\",\"Iteration = {} done...\".format(k+step_size),end='')\n",
    "    error = np.array(error)\n",
    "    error_mu.append(error)\n",
    "    plt.plot(error,label = \"mu = {}\".format(m),linewidth=3)\n",
    "    print(\"mu = {} completed\".format(m))\n",
    "plt.legend(loc='upper right')"
   ]
  },
  {
   "cell_type": "code",
   "execution_count": null,
   "metadata": {},
   "outputs": [],
   "source": [
    "for i in range(len(error_mu)):\n",
    "    pd.DataFrame(error_mu[i]).to_csv('klms_error_mu_{}.csv'.format(mu[i]))"
   ]
  }
 ],
 "metadata": {
  "kernelspec": {
   "display_name": "Python [default]",
   "language": "python",
   "name": "python3"
  },
  "language_info": {
   "codemirror_mode": {
    "name": "ipython",
    "version": 3
   },
   "file_extension": ".py",
   "mimetype": "text/x-python",
   "name": "python",
   "nbconvert_exporter": "python",
   "pygments_lexer": "ipython3",
   "version": "3.6.6"
  }
 },
 "nbformat": 4,
 "nbformat_minor": 2
}
